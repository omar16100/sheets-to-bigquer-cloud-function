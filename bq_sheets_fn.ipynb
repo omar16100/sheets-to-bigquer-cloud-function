{
  "nbformat": 4,
  "nbformat_minor": 0,
  "metadata": {
    "colab": {
      "name": "bq_sheets_fn.ipynb",
      "provenance": [],
      "collapsed_sections": []
    },
    "kernelspec": {
      "name": "python3",
      "display_name": "Python 3"
    }
  },
  "cells": [
    {
      "cell_type": "markdown",
      "metadata": {
        "id": "drIbBgGSq6Jo",
        "colab_type": "text"
      },
      "source": [
        "**Content**\n",
        "\n",
        "\n",
        "\n",
        "*   Google drive auth              \n",
        "*   Query permanent tables\n",
        "*   Query temporary tables \n",
        "\n"
      ]
    },
    {
      "cell_type": "code",
      "metadata": {
        "id": "hlDHgW_Yp07M",
        "colab_type": "code",
        "colab": {}
      },
      "source": [
        "from google.cloud import bigquery\n",
        "from google.colab import drive\n",
        "import subprocess\n",
        "import os"
      ],
      "execution_count": null,
      "outputs": []
    },
    {
      "cell_type": "code",
      "metadata": {
        "id": "xgbA1odUp6_s",
        "colab_type": "code",
        "colab": {
          "base_uri": "https://localhost:8080/",
          "height": 124
        },
        "outputId": "03c4b3ec-6d27-4160-edbf-368f356593e0"
      },
      "source": [
        "drive.mount('/content/drive')"
      ],
      "execution_count": null,
      "outputs": [
        {
          "output_type": "stream",
          "text": [
            "Go to this URL in a browser: https://accounts.google.com/o/oauth2/auth?client_id=947318989803-6bn6qk8qdgf4n4g3pfee6491hc0brc4i.apps.googleusercontent.com&redirect_uri=urn%3aietf%3awg%3aoauth%3a2.0%3aoob&response_type=code&scope=email%20https%3a%2f%2fwww.googleapis.com%2fauth%2fdocs.test%20https%3a%2f%2fwww.googleapis.com%2fauth%2fdrive%20https%3a%2f%2fwww.googleapis.com%2fauth%2fdrive.photos.readonly%20https%3a%2f%2fwww.googleapis.com%2fauth%2fpeopleapi.readonly\n",
            "\n",
            "Enter your authorization code:\n",
            "··········\n",
            "Mounted at /content/drive\n"
          ],
          "name": "stdout"
        }
      ]
    },
    {
      "cell_type": "code",
      "metadata": {
        "id": "KVwCqhGeqB1U",
        "colab_type": "code",
        "colab": {}
      },
      "source": [
        "os.environ[\"GOOGLE_APPLICATION_CREDENTIALS\"]=\"/content/drive/My Drive/env/file.json\""
      ],
      "execution_count": null,
      "outputs": []
    },
    {
      "cell_type": "code",
      "metadata": {
        "id": "gK9q8Vw-qFQz",
        "colab_type": "code",
        "colab": {}
      },
      "source": [
        "# for enabling google drive access\n",
        "\n",
        "# from google.cloud import bigquery\n",
        "# import google.auth\n",
        "# \n",
        "# # Create credentials with Drive & BigQuery API scopes.\n",
        "# # Both APIs must be enabled for your project before running this code.\n",
        "# credentials, project = google.auth.default(\n",
        "#     scopes=[\n",
        "#         \"https://www.googleapis.com/auth/drive\",\n",
        "#         \"https://www.googleapis.com/auth/bigquery\",\n",
        "#     ]\n",
        "# )\n",
        "# \n",
        "# # TODO(developer): Construct a BigQuery client object.\n",
        "# client = bigquery.Client(credentials=credentials, project=project)"
      ],
      "execution_count": null,
      "outputs": []
    },
    {
      "cell_type": "markdown",
      "metadata": {
        "id": "Ts2dbwhNqimT",
        "colab_type": "text"
      },
      "source": [
        "Querying an external data source using a temporary table is useful for one-time, ad-hoc queries over external data, or for extract, transform, and load (ETL) processes.\n",
        "\n",
        "We can have a permanent table in dataset as well.\n",
        "\n",
        "https://cloud.google.com/bigquery/external-data-drive"
      ]
    },
    {
      "cell_type": "code",
      "metadata": {
        "id": "Pp9RsKYqqWfI",
        "colab_type": "code",
        "colab": {}
      },
      "source": [
        "# for permanent external tables\n",
        "\n",
        "from google.cloud import bigquery\n",
        "import google.auth\n",
        "\n",
        "# Create credentials with Drive & BigQuery API scopes.\n",
        "# Both APIs must be enabled for your project before running this code.\n",
        "credentials, project = google.auth.default(\n",
        "    scopes=[\n",
        "        \"https://www.googleapis.com/auth/drive\",\n",
        "        \"https://www.googleapis.com/auth/bigquery\",\n",
        "    ]\n",
        ")\n",
        "\n",
        "# TODO(developer): Construct a BigQuery client object.\n",
        "client = bigquery.Client(credentials=credentials, project=project)\n",
        "\n",
        "# TODO(developer): Set dataset_id to the ID of the dataset to fetch.\n",
        "# dataset_id = \"your-project.your_dataset\"\n",
        "\n",
        "# Configure the external data source.\n",
        "dataset = client.get_dataset(dataset_id)\n",
        "table_id = \"us_states\"\n",
        "schema = [\n",
        "    bigquery.SchemaField(\"name\", \"STRING\"),\n",
        "    bigquery.SchemaField(\"post_abbr\", \"STRING\"),\n",
        "]\n",
        "table = bigquery.Table(dataset.table(table_id), schema=schema)\n",
        "external_config = bigquery.ExternalConfig(\"GOOGLE_SHEETS\")\n",
        "# Use a shareable link or grant viewing access to the email address you\n",
        "# used to authenticate with BigQuery (this example Sheet is public).\n",
        "sheet_url = (\n",
        "    \"https://docs.google.com/spreadsheets\"\n",
        "    \"/d/1i_QCL-7HcSyUZmIbP9E6lO_T5u3HnpLe7dnpHaijg_E/edit?usp=sharing\"\n",
        ")\n",
        "external_config.source_uris = [sheet_url]\n",
        "external_config.options.skip_leading_rows = 1  # Optionally skip header row.\n",
        "external_config.options.range = (\n",
        "    \"us-states!A20:B49\"  # Optionally set range of the sheet to query from.\n",
        ")\n",
        "table.external_data_configuration = external_config\n",
        "\n",
        "# Create a permanent table linked to the Sheets file.\n",
        "table = client.create_table(table)  # Make an API request.\n",
        "\n",
        "# Example query to find states starting with \"W\".\n",
        "sql = 'SELECT * FROM `{}.{}` WHERE name LIKE \"W%\"'.format(dataset_id, table_id)\n",
        "\n",
        "query_job = client.query(sql)  # Make an API request.\n",
        "\n",
        "# Wait for the query to complete.\n",
        "w_states = list(query_job)\n",
        "print(\n",
        "    \"There are {} states with names starting with W in the selected range.\".format(\n",
        "        len(w_states)\n",
        "    )\n",
        ")"
      ],
      "execution_count": null,
      "outputs": []
    },
    {
      "cell_type": "code",
      "metadata": {
        "id": "kX1wAVAMr27N",
        "colab_type": "code",
        "colab": {}
      },
      "source": [
        "# for permanent external tables\n",
        "# Combine : \n",
        "# A table definition file with a query\n",
        "# An inline schema definition with a query\n",
        "# A JSON schema definition file with a query\n"
      ],
      "execution_count": null,
      "outputs": []
    },
    {
      "cell_type": "code",
      "metadata": {
        "id": "wg0Yam6Pr-a9",
        "colab_type": "code",
        "colab": {}
      },
      "source": [
        "from google.cloud import bigquery\n",
        "import google.auth\n",
        "\n",
        "# Create credentials with Drive & BigQuery API scopes.\n",
        "# Both APIs must be enabled for your project before running this code.\n",
        "# credentials, project = google.auth.default(\n",
        "#     scopes=[\n",
        "#         \"https://www.googleapis.com/auth/drive\",\n",
        "#         \"https://www.googleapis.com/auth/bigquery\",\n",
        "#     ]\n",
        "# )\n",
        "\n",
        "# TODO(developer): Construct a BigQuery client object.\n",
        "client = bigquery.Client(credentials=credentials, project=project)\n",
        "\n",
        "# Configure the external data source and query job.\n",
        "external_config = bigquery.ExternalConfig(\"GOOGLE_SHEETS\")\n",
        "\n",
        "# Use a shareable link or grant viewing access to the email address you\n",
        "# used to authenticate with BigQuery (this example Sheet is public).\n",
        "sheet_url = (\n",
        "    \"https://docs.google.com/spreadsheets\"\n",
        "    \"/d/1i_QCL-7HcSyUZmIbP9E6lO_T5u3HnpLe7dnpHaijg_E/edit?usp=sharing\"\n",
        ")\n",
        "external_config.source_uris = [sheet_url]\n",
        "external_config.schema = [\n",
        "    bigquery.SchemaField(\"name\", \"STRING\"),\n",
        "    bigquery.SchemaField(\"post_abbr\", \"STRING\"),\n",
        "]\n",
        "external_config.options.skip_leading_rows = 1  # Optionally skip header row.\n",
        "external_config.options.range = (\n",
        "    \"us-states!A20:B49\"  # Optionally set range of the sheet to query from.\n",
        ")\n",
        "table_id = \"us_states\"\n",
        "job_config = bigquery.QueryJobConfig(table_definitions={table_id: external_config})\n",
        "\n",
        "# Example query to find states starting with \"W\".\n",
        "sql = 'SELECT * FROM `{}` WHERE name LIKE \"W%\"'.format(table_id)\n",
        "\n",
        "query_job = client.query(sql, job_config=job_config)  # Make an API request.\n",
        "\n",
        "# Wait for the query to complete.\n",
        "w_states = list(query_job)\n",
        "print(\n",
        "    \"There are {} states with names starting with W in the selected range.\".format(\n",
        "        len(w_states)\n",
        "    )\n",
        ")"
      ],
      "execution_count": null,
      "outputs": []
    },
    {
      "cell_type": "markdown",
      "metadata": {
        "id": "YQCjgbw3vny4",
        "colab_type": "text"
      },
      "source": [
        "**bq_query_permanent_fn**"
      ]
    },
    {
      "cell_type": "markdown",
      "metadata": {
        "id": "WlJmLf57vuUx",
        "colab_type": "text"
      },
      "source": [
        "**bq_query_temporary_fn**"
      ]
    }
  ]
}